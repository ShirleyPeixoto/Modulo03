{
  "nbformat": 4,
  "nbformat_minor": 0,
  "metadata": {
    "colab": {
      "provenance": []
    },
    "kernelspec": {
      "name": "python3",
      "display_name": "Python 3"
    },
    "language_info": {
      "name": "python"
    }
  },
  "cells": [
    {
      "cell_type": "markdown",
      "source": [
        "#Aula 6 - ATIVIDADE"
      ],
      "metadata": {
        "id": "CTo6cyECMCrp"
      }
    },
    {
      "cell_type": "markdown",
      "source": [
        "ATIVIDADE 1 - Faça o que se pede com a base de dados mpg, ao finalizar todas as etapas, envie o link do GitHub por e-mail para: pablo.bizzi@gmail.com"
      ],
      "metadata": {
        "id": "EmdsXYi8KOnd"
      }
    },
    {
      "cell_type": "markdown",
      "source": [
        "Dicionário dos dados:\n",
        "\n",
        "* mpg --> consumo do carro\n",
        "* cylinders --> quantidade de cilindros\n",
        "* displacement --> deslocamento com um tanque\n",
        "* horsepower --> potência do carro\n",
        "* weight --> peso do carro\n",
        "* acceleration --> aceleração do carro\n",
        "* model_year --> modelo ano do carro\n",
        "* origin --> origem do carro\n",
        "* name --> nome do carro"
      ],
      "metadata": {
        "id": "Y2p3hYJoKSTC"
      }
    },
    {
      "cell_type": "code",
      "execution_count": null,
      "metadata": {
        "id": "QuUzrsU7KILv"
      },
      "outputs": [],
      "source": [
        "#carregar a base de dados\n",
        "\n",
        "# importanto a biblioteca\n",
        "import pandas as pd\n",
        "\n",
        "mpg = pd.read_csv('sample_data/mpg.csv', delimiter=',')\n",
        "\n",
        "mpg.shape"
      ]
    },
    {
      "cell_type": "code",
      "source": [
        "#principais caracteristicas dos dados (tipo, tamanho e outras informações relevantes)\n",
        "mpg.info()"
      ],
      "metadata": {
        "id": "OqwuDZL7Kj8C"
      },
      "execution_count": null,
      "outputs": []
    },
    {
      "cell_type": "code",
      "source": [
        "#descritivo das variáveis numéricas\n",
        "mpg.describe()"
      ],
      "metadata": {
        "id": "u9Oms-YwKkDJ"
      },
      "execution_count": null,
      "outputs": []
    },
    {
      "cell_type": "code",
      "source": [
        "#soma e percentual dos dados faltantes\n",
        "mpg.isnull().sum()\n",
        "mpg.isnull().sum()*100/mpg.shape[0]"
      ],
      "metadata": {
        "id": "XnHS2j1tKkGi"
      },
      "execution_count": null,
      "outputs": []
    },
    {
      "cell_type": "code",
      "source": [
        "#soma e percentual dos dados não nulos\n",
        "mpg.notna().sum()\n",
        "mpg.notna().sum()*100/mpg.shape[0]"
      ],
      "metadata": {
        "id": "3BcLJM0hKkJR"
      },
      "execution_count": null,
      "outputs": []
    },
    {
      "cell_type": "code",
      "source": [
        "#deletar as linhas com valores nulos\n",
        "mpg2 = mpg.dropna()\n",
        "mpg2.shape"
      ],
      "metadata": {
        "id": "XoNLPOhOKkLt"
      },
      "execution_count": null,
      "outputs": []
    },
    {
      "cell_type": "code",
      "source": [
        "#deletar a coluna ano modelo (model_year)\n",
        "mpg2.drop(columns='model_year')"
      ],
      "metadata": {
        "id": "kMaeCKGRKkOK"
      },
      "execution_count": null,
      "outputs": []
    },
    {
      "cell_type": "code",
      "source": [
        "#deletar carros de origem japonesa\n",
        "mpg2['origin'].unique()\n",
        "mpg2 = mpg2.drop(columns=['origin'] =='japan')\n",
        "\n",
        "#Pablo, noa consegeui exluir a linha com o filtro... o que estou fazendo errado? "
      ],
      "metadata": {
        "id": "rF2Rzi_jKkQ-"
      },
      "execution_count": null,
      "outputs": []
    },
    {
      "cell_type": "code",
      "source": [
        "#verificar a quantidade de dados duplicados no dataframe\n",
        "mpg2.duplicated().sum()"
      ],
      "metadata": {
        "id": "lb2akpJgKkUZ"
      },
      "execution_count": null,
      "outputs": []
    },
    {
      "cell_type": "code",
      "source": [
        "#comparar os tamanhos do dataframe original e o modificado\n",
        "print(f'Origial = {mpg.shape[0]}, e Modificado = {mpg2.shape[0]}')"
      ],
      "metadata": {
        "id": "0oav3dPPK5Uy"
      },
      "execution_count": null,
      "outputs": []
    },
    {
      "cell_type": "code",
      "source": [
        "#gravar a nova base de dados após a limpeza\n",
        "mpg2 = open('mpg2.csv', 'w')\n",
        "\n",
        "#Pablo, salva mas nao vem informacao... o que estou fazendo errado? "
      ],
      "metadata": {
        "id": "lm2Mx7KmK5Xg"
      },
      "execution_count": null,
      "outputs": []
    }
  ]
}