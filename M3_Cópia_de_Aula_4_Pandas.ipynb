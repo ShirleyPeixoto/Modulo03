{
  "cells": [
    {
      "cell_type": "code",
      "execution_count": null,
      "metadata": {
        "id": "PC5E0qj5BCJt"
      },
      "outputs": [],
      "source": [
        "# Instalação da biblioteca se necessário\n",
        "!pip install pandas"
      ]
    },
    {
      "cell_type": "markdown",
      "metadata": {
        "id": "4vwYaEbEZ4nY"
      },
      "source": [
        "# Aula 4 - Pandas"
      ]
    },
    {
      "cell_type": "markdown",
      "metadata": {
        "id": "VrGqrCrkaCuu"
      },
      "source": [
        "Prof. Tiago Dias\n",
        "\n",
        "[Linkedin](https://www.linkedin.com/in/diasctiago/) | [Github](https://github.com/diasctiago) | [Blog](https://www.dadosaocubo.com/)"
      ]
    },
    {
      "cell_type": "markdown",
      "metadata": {
        "id": "94he9PoubPgw"
      },
      "source": [
        "## Conhecendo o pandas"
      ]
    },
    {
      "cell_type": "markdown",
      "metadata": {
        "id": "bDc-ZpjtNdbi"
      },
      "source": [
        "[Documentação pandas](https://pandas.pydata.org/docs/user_guide/index.html)"
      ]
    },
    {
      "cell_type": "markdown",
      "metadata": {
        "id": "J11TWEzIPqV4"
      },
      "source": [
        "### O que é um DataFrame?"
      ]
    },
    {
      "cell_type": "markdown",
      "metadata": {
        "id": "rY6YFWxbNth8"
      },
      "source": [
        "DataFrame, é a representação de uma tabela na biblioteca pandas.\n",
        "\n",
        "| ![DataFrame](https://pandas.pydata.org/docs/_images/01_table_dataframe.svg) |\n",
        "|:--:| \n",
        "| _DataFrame_ (Fonte da imagem: [Pandas](https://pandas.pydata.org/)) |"
      ]
    },
    {
      "cell_type": "markdown",
      "metadata": {
        "id": "aIzrq3q8Pt8V"
      },
      "source": [
        "### O que é uma Series?"
      ]
    },
    {
      "cell_type": "markdown",
      "metadata": {
        "id": "S5DqS-qCNxjF"
      },
      "source": [
        "Uma Series, é a representação de cada coluna de uma tabela individual.\n",
        "\n",
        "| ![Series](https://pandas.pydata.org/docs/_images/01_table_series.svg) |\n",
        "|:--:| \n",
        "| _Series_ (Fonte da imagem: [Pandas](https://pandas.pydata.org/)) |"
      ]
    },
    {
      "cell_type": "markdown",
      "metadata": {
        "id": "VVj-kUanPvrO"
      },
      "source": [
        "### Que tipos de dados posso trabalhar no pandas?"
      ]
    },
    {
      "cell_type": "markdown",
      "metadata": {
        "id": "gAL52HuLPlew"
      },
      "source": [
        "É possível ler e gravar dados e diversas fontes com o pandas.\n",
        "\n",
        "| ![Tipos de Dados](https://pandas.pydata.org/docs/_images/02_io_readwrite.svg) |\n",
        "|:--:| \n",
        "| _Tipos de Dados_ (Fonte da imagem: [Pandas](https://pandas.pydata.org/)) |"
      ]
    },
    {
      "cell_type": "markdown",
      "metadata": {
        "id": "8RXo5si_QIpb"
      },
      "source": [
        "### Prática com o pandas"
      ]
    },
    {
      "cell_type": "code",
      "execution_count": null,
      "metadata": {
        "id": "M6ZJ1_PrbUl_"
      },
      "outputs": [],
      "source": [
        "# importanto a biblioteca\n",
        "import pandas as pd"
      ]
    },
    {
      "cell_type": "code",
      "execution_count": null,
      "metadata": {
        "id": "R9nbPRltMSL7"
      },
      "outputs": [],
      "source": [
        "# lendo um arquivo csv a partir de um link da internet\n",
        "\n",
        "df = pd.read_csv('http://dados.agricultura.gov.br/dataset/420c0514-92da-4888-be85-290a0785e8a9/resource/65cce855-685e-4cfa-b3a4-2d192fc83b4e/download/rfflorestasplantadasibge2014-2016.csv', \n",
        "                  encoding = 'Windows 1252', #geralmente não eh necessário\n",
        "                  delimiter=';')\n",
        "\n"
      ]
    },
    {
      "cell_type": "code",
      "execution_count": null,
      "metadata": {
        "id": "8m9OQOH-MSH7"
      },
      "outputs": [],
      "source": [
        "# lendo um arquivo csv local\n",
        "df2 = pd.read_csv('florestas.csv',\n",
        "                   enconding = 'Windows 1252',\n",
        "                   delimiter = ';')"
      ]
    },
    {
      "cell_type": "code",
      "execution_count": null,
      "metadata": {
        "colab": {
          "base_uri": "https://localhost:8080/",
          "height": 354
        },
        "id": "-jZbrX18MSEm",
        "outputId": "88cdc685-7036-4794-c5ad-a02c8f2b7a74"
      },
      "outputs": [
        {
          "data": {
            "text/html": [
              "<div>\n",
              "<style scoped>\n",
              "    .dataframe tbody tr th:only-of-type {\n",
              "        vertical-align: middle;\n",
              "    }\n",
              "\n",
              "    .dataframe tbody tr th {\n",
              "        vertical-align: top;\n",
              "    }\n",
              "\n",
              "    .dataframe thead th {\n",
              "        text-align: right;\n",
              "    }\n",
              "</style>\n",
              "<table border=\"1\" class=\"dataframe\">\n",
              "  <thead>\n",
              "    <tr style=\"text-align: right;\">\n",
              "      <th></th>\n",
              "      <th>Ano (data)</th>\n",
              "      <th>País</th>\n",
              "      <th>Região</th>\n",
              "      <th>Estado</th>\n",
              "      <th>Estado sigla</th>\n",
              "      <th>Município (Municípios)</th>\n",
              "      <th>Município Estado</th>\n",
              "      <th>Latitude</th>\n",
              "      <th>Longitude</th>\n",
              "      <th>Espécie florestal</th>\n",
              "      <th>Área (ha)</th>\n",
              "    </tr>\n",
              "  </thead>\n",
              "  <tbody>\n",
              "    <tr>\n",
              "      <th>0</th>\n",
              "      <td>31/12/2014</td>\n",
              "      <td>Brasil</td>\n",
              "      <td>Norte</td>\n",
              "      <td>Rondônia</td>\n",
              "      <td>RO</td>\n",
              "      <td>Alta Floresta D'Oeste</td>\n",
              "      <td>Alta Floresta D'Oeste (RO)</td>\n",
              "      <td>-12,47</td>\n",
              "      <td>-62,27</td>\n",
              "      <td>Eucalipto</td>\n",
              "      <td>0.0</td>\n",
              "    </tr>\n",
              "    <tr>\n",
              "      <th>1</th>\n",
              "      <td>31/12/2015</td>\n",
              "      <td>Brasil</td>\n",
              "      <td>Norte</td>\n",
              "      <td>Rondônia</td>\n",
              "      <td>RO</td>\n",
              "      <td>Alta Floresta D'Oeste</td>\n",
              "      <td>Alta Floresta D'Oeste (RO)</td>\n",
              "      <td>-12,47</td>\n",
              "      <td>-62,27</td>\n",
              "      <td>Eucalipto</td>\n",
              "      <td>0.0</td>\n",
              "    </tr>\n",
              "    <tr>\n",
              "      <th>2</th>\n",
              "      <td>31/12/2016</td>\n",
              "      <td>Brasil</td>\n",
              "      <td>Norte</td>\n",
              "      <td>Rondônia</td>\n",
              "      <td>RO</td>\n",
              "      <td>Alta Floresta D'Oeste</td>\n",
              "      <td>Alta Floresta D'Oeste (RO)</td>\n",
              "      <td>-12,47</td>\n",
              "      <td>-62,27</td>\n",
              "      <td>Eucalipto</td>\n",
              "      <td>0.0</td>\n",
              "    </tr>\n",
              "    <tr>\n",
              "      <th>3</th>\n",
              "      <td>31/12/2014</td>\n",
              "      <td>Brasil</td>\n",
              "      <td>Norte</td>\n",
              "      <td>Rondônia</td>\n",
              "      <td>RO</td>\n",
              "      <td>Alta Floresta D'Oeste</td>\n",
              "      <td>Alta Floresta D'Oeste (RO)</td>\n",
              "      <td>-12,47</td>\n",
              "      <td>-62,27</td>\n",
              "      <td>Pinus</td>\n",
              "      <td>0.0</td>\n",
              "    </tr>\n",
              "    <tr>\n",
              "      <th>4</th>\n",
              "      <td>31/12/2015</td>\n",
              "      <td>Brasil</td>\n",
              "      <td>Norte</td>\n",
              "      <td>Rondônia</td>\n",
              "      <td>RO</td>\n",
              "      <td>Alta Floresta D'Oeste</td>\n",
              "      <td>Alta Floresta D'Oeste (RO)</td>\n",
              "      <td>-12,47</td>\n",
              "      <td>-62,27</td>\n",
              "      <td>Pinus</td>\n",
              "      <td>0.0</td>\n",
              "    </tr>\n",
              "  </tbody>\n",
              "</table>\n",
              "</div>"
            ],
            "text/plain": [
              "   Ano (data)    País Região    Estado Estado sigla Município (Municípios)  \\\n",
              "0  31/12/2014  Brasil  Norte  Rondônia           RO  Alta Floresta D'Oeste   \n",
              "1  31/12/2015  Brasil  Norte  Rondônia           RO  Alta Floresta D'Oeste   \n",
              "2  31/12/2016  Brasil  Norte  Rondônia           RO  Alta Floresta D'Oeste   \n",
              "3  31/12/2014  Brasil  Norte  Rondônia           RO  Alta Floresta D'Oeste   \n",
              "4  31/12/2015  Brasil  Norte  Rondônia           RO  Alta Floresta D'Oeste   \n",
              "\n",
              "             Município Estado Latitude Longitude Espécie florestal  Área (ha)  \n",
              "0  Alta Floresta D'Oeste (RO)   -12,47    -62,27         Eucalipto        0.0  \n",
              "1  Alta Floresta D'Oeste (RO)   -12,47    -62,27         Eucalipto        0.0  \n",
              "2  Alta Floresta D'Oeste (RO)   -12,47    -62,27         Eucalipto        0.0  \n",
              "3  Alta Floresta D'Oeste (RO)   -12,47    -62,27             Pinus        0.0  \n",
              "4  Alta Floresta D'Oeste (RO)   -12,47    -62,27             Pinus        0.0  "
            ]
          },
          "execution_count": 10,
          "metadata": {},
          "output_type": "execute_result"
        }
      ],
      "source": [
        "# verificando as primeiras linhas do arquivo\n",
        "df.head()"
      ]
    },
    {
      "cell_type": "code",
      "execution_count": null,
      "metadata": {
        "colab": {
          "base_uri": "https://localhost:8080/",
          "height": 257
        },
        "id": "Eof2FR54MSA7",
        "outputId": "626c7bc5-77b6-4ee4-f203-4eb54648895c"
      },
      "outputs": [
        {
          "data": {
            "text/html": [
              "<div>\n",
              "<style scoped>\n",
              "    .dataframe tbody tr th:only-of-type {\n",
              "        vertical-align: middle;\n",
              "    }\n",
              "\n",
              "    .dataframe tbody tr th {\n",
              "        vertical-align: top;\n",
              "    }\n",
              "\n",
              "    .dataframe thead th {\n",
              "        text-align: right;\n",
              "    }\n",
              "</style>\n",
              "<table border=\"1\" class=\"dataframe\">\n",
              "  <thead>\n",
              "    <tr style=\"text-align: right;\">\n",
              "      <th></th>\n",
              "      <th>Ano (data)</th>\n",
              "      <th>País</th>\n",
              "      <th>Região</th>\n",
              "      <th>Estado</th>\n",
              "      <th>Estado sigla</th>\n",
              "      <th>Município (Municípios)</th>\n",
              "      <th>Município Estado</th>\n",
              "      <th>Latitude</th>\n",
              "      <th>Longitude</th>\n",
              "      <th>Espécie florestal</th>\n",
              "      <th>Área (ha)</th>\n",
              "    </tr>\n",
              "  </thead>\n",
              "  <tbody>\n",
              "    <tr>\n",
              "      <th>31009</th>\n",
              "      <td>31/12/2015</td>\n",
              "      <td>Brasil</td>\n",
              "      <td>Centro Oeste</td>\n",
              "      <td>Distrito Federal</td>\n",
              "      <td>DF</td>\n",
              "      <td>Brasília</td>\n",
              "      <td>Brasília (DF)</td>\n",
              "      <td>-15,78</td>\n",
              "      <td>-47,8</td>\n",
              "      <td>Pinus</td>\n",
              "      <td>1000.0</td>\n",
              "    </tr>\n",
              "    <tr>\n",
              "      <th>31010</th>\n",
              "      <td>31/12/2016</td>\n",
              "      <td>Brasil</td>\n",
              "      <td>Centro Oeste</td>\n",
              "      <td>Distrito Federal</td>\n",
              "      <td>DF</td>\n",
              "      <td>Brasília</td>\n",
              "      <td>Brasília (DF)</td>\n",
              "      <td>-15,78</td>\n",
              "      <td>-47,8</td>\n",
              "      <td>Pinus</td>\n",
              "      <td>700.0</td>\n",
              "    </tr>\n",
              "    <tr>\n",
              "      <th>31011</th>\n",
              "      <td>31/12/2014</td>\n",
              "      <td>Brasil</td>\n",
              "      <td>Centro Oeste</td>\n",
              "      <td>Distrito Federal</td>\n",
              "      <td>DF</td>\n",
              "      <td>Brasília</td>\n",
              "      <td>Brasília (DF)</td>\n",
              "      <td>-15,78</td>\n",
              "      <td>-47,8</td>\n",
              "      <td>Outras espécies</td>\n",
              "      <td>0.0</td>\n",
              "    </tr>\n",
              "    <tr>\n",
              "      <th>31012</th>\n",
              "      <td>31/12/2015</td>\n",
              "      <td>Brasil</td>\n",
              "      <td>Centro Oeste</td>\n",
              "      <td>Distrito Federal</td>\n",
              "      <td>DF</td>\n",
              "      <td>Brasília</td>\n",
              "      <td>Brasília (DF)</td>\n",
              "      <td>-15,78</td>\n",
              "      <td>-47,8</td>\n",
              "      <td>Outras espécies</td>\n",
              "      <td>0.0</td>\n",
              "    </tr>\n",
              "    <tr>\n",
              "      <th>31013</th>\n",
              "      <td>31/12/2016</td>\n",
              "      <td>Brasil</td>\n",
              "      <td>Centro Oeste</td>\n",
              "      <td>Distrito Federal</td>\n",
              "      <td>DF</td>\n",
              "      <td>Brasília</td>\n",
              "      <td>Brasília (DF)</td>\n",
              "      <td>-15,78</td>\n",
              "      <td>-47,8</td>\n",
              "      <td>Outras espécies</td>\n",
              "      <td>0.0</td>\n",
              "    </tr>\n",
              "  </tbody>\n",
              "</table>\n",
              "</div>"
            ],
            "text/plain": [
              "       Ano (data)    País        Região            Estado Estado sigla  \\\n",
              "31009  31/12/2015  Brasil  Centro Oeste  Distrito Federal           DF   \n",
              "31010  31/12/2016  Brasil  Centro Oeste  Distrito Federal           DF   \n",
              "31011  31/12/2014  Brasil  Centro Oeste  Distrito Federal           DF   \n",
              "31012  31/12/2015  Brasil  Centro Oeste  Distrito Federal           DF   \n",
              "31013  31/12/2016  Brasil  Centro Oeste  Distrito Federal           DF   \n",
              "\n",
              "      Município (Municípios) Município Estado Latitude Longitude  \\\n",
              "31009               Brasília    Brasília (DF)   -15,78     -47,8   \n",
              "31010               Brasília    Brasília (DF)   -15,78     -47,8   \n",
              "31011               Brasília    Brasília (DF)   -15,78     -47,8   \n",
              "31012               Brasília    Brasília (DF)   -15,78     -47,8   \n",
              "31013               Brasília    Brasília (DF)   -15,78     -47,8   \n",
              "\n",
              "      Espécie florestal  Área (ha)  \n",
              "31009             Pinus     1000.0  \n",
              "31010             Pinus      700.0  \n",
              "31011   Outras espécies        0.0  \n",
              "31012   Outras espécies        0.0  \n",
              "31013   Outras espécies        0.0  "
            ]
          },
          "execution_count": 14,
          "metadata": {},
          "output_type": "execute_result"
        }
      ],
      "source": [
        "# verificando as última linhas do arquivo\n",
        "df.tail()"
      ]
    },
    {
      "cell_type": "code",
      "execution_count": null,
      "metadata": {
        "colab": {
          "base_uri": "https://localhost:8080/"
        },
        "id": "3UMuSxz4TCVD",
        "outputId": "ec277dfb-7f0e-4540-a80c-7ad8c5cad511"
      },
      "outputs": [
        {
          "data": {
            "text/plain": [
              "Index(['Ano (data)', 'País', 'Região', 'Estado', 'Estado sigla',\n",
              "       'Município (Municípios)', 'Município Estado', 'Latitude', 'Longitude',\n",
              "       'Espécie florestal', 'Área (ha)'],\n",
              "      dtype='object')"
            ]
          },
          "execution_count": 15,
          "metadata": {},
          "output_type": "execute_result"
        }
      ],
      "source": [
        "# verificando os nomes das colunas carregadas\n",
        "df.columns"
      ]
    },
    {
      "cell_type": "code",
      "source": [],
      "metadata": {
        "id": "ZMWQfBhj1X9l"
      },
      "execution_count": null,
      "outputs": []
    },
    {
      "cell_type": "code",
      "execution_count": null,
      "metadata": {
        "colab": {
          "base_uri": "https://localhost:8080/"
        },
        "id": "Z8nI5plu6kkQ",
        "outputId": "7b1dab54-7a01-4741-9360-b1c834f8cd4c"
      },
      "outputs": [
        {
          "data": {
            "text/plain": [
              "RangeIndex(start=0, stop=31014, step=1)"
            ]
          },
          "execution_count": 16,
          "metadata": {},
          "output_type": "execute_result"
        }
      ],
      "source": [
        "# verificando o indice\n",
        "df.index"
      ]
    },
    {
      "cell_type": "code",
      "execution_count": null,
      "metadata": {
        "colab": {
          "base_uri": "https://localhost:8080/"
        },
        "id": "TrPz3fMWTNvc",
        "outputId": "7090c63a-f966-456c-dcf2-369e4eedf91f"
      },
      "outputs": [
        {
          "name": "stdout",
          "output_type": "stream",
          "text": [
            "<class 'pandas.core.frame.DataFrame'>\n",
            "RangeIndex: 31014 entries, 0 to 31013\n",
            "Data columns (total 11 columns):\n",
            " #   Column                  Non-Null Count  Dtype  \n",
            "---  ------                  --------------  -----  \n",
            " 0   Ano (data)              31014 non-null  object \n",
            " 1   País                    31014 non-null  object \n",
            " 2   Região                  31014 non-null  object \n",
            " 3   Estado                  31014 non-null  object \n",
            " 4   Estado sigla            31014 non-null  object \n",
            " 5   Município (Municípios)  31014 non-null  object \n",
            " 6   Município Estado        31014 non-null  object \n",
            " 7   Latitude                31014 non-null  object \n",
            " 8   Longitude               31014 non-null  object \n",
            " 9   Espécie florestal       31014 non-null  object \n",
            " 10  Área (ha)               29658 non-null  float64\n",
            "dtypes: float64(1), object(10)\n",
            "memory usage: 2.6+ MB\n"
          ]
        }
      ],
      "source": [
        "# verificado as informações dos dados\n",
        "df.info()"
      ]
    },
    {
      "cell_type": "code",
      "execution_count": 1,
      "metadata": {
        "id": "jcX8bkjbxQwY",
        "outputId": "2a42e4b5-3352-4257-dafb-a1abbdcaff7b",
        "colab": {
          "base_uri": "https://localhost:8080/"
        }
      },
      "outputs": [
        {
          "output_type": "execute_result",
          "data": {
            "text/plain": [
              "1356"
            ]
          },
          "metadata": {},
          "execution_count": 1
        }
      ],
      "source": [
        "31014 - 29658"
      ]
    },
    {
      "cell_type": "code",
      "execution_count": null,
      "metadata": {
        "colab": {
          "base_uri": "https://localhost:8080/"
        },
        "id": "WoRGZfXETWAs",
        "outputId": "bbd0cd13-93e9-4131-9f4a-df8f3b6ca0e6"
      },
      "outputs": [
        {
          "data": {
            "text/plain": [
              "(31014, 11)"
            ]
          },
          "execution_count": 19,
          "metadata": {},
          "output_type": "execute_result"
        }
      ],
      "source": [
        "# quantidadede linhas e colunas\n",
        "df.shape"
      ]
    },
    {
      "cell_type": "markdown",
      "metadata": {
        "id": "_BIVSW9VTioe"
      },
      "source": [
        "Como selecionar colunas específicas do DataFrame.\n",
        "\n",
        "| ![Colunas dos Dados](https://pandas.pydata.org/docs/_images/03_subset_columns.svg) |\n",
        "|:--:| \n",
        "| _Colunas dos Dados_ (Fonte da imagem: [Pandas](https://pandas.pydata.org/)) |"
      ]
    },
    {
      "cell_type": "code",
      "execution_count": null,
      "metadata": {
        "colab": {
          "base_uri": "https://localhost:8080/",
          "height": 424
        },
        "id": "j64uNOSoTbQE",
        "outputId": "39ff9fe5-ed6b-42d2-8de4-e215f7cfb79a"
      },
      "outputs": [
        {
          "data": {
            "text/html": [
              "<div>\n",
              "<style scoped>\n",
              "    .dataframe tbody tr th:only-of-type {\n",
              "        vertical-align: middle;\n",
              "    }\n",
              "\n",
              "    .dataframe tbody tr th {\n",
              "        vertical-align: top;\n",
              "    }\n",
              "\n",
              "    .dataframe thead th {\n",
              "        text-align: right;\n",
              "    }\n",
              "</style>\n",
              "<table border=\"1\" class=\"dataframe\">\n",
              "  <thead>\n",
              "    <tr style=\"text-align: right;\">\n",
              "      <th></th>\n",
              "      <th>País</th>\n",
              "      <th>Região</th>\n",
              "    </tr>\n",
              "  </thead>\n",
              "  <tbody>\n",
              "    <tr>\n",
              "      <th>0</th>\n",
              "      <td>Brasil</td>\n",
              "      <td>Norte</td>\n",
              "    </tr>\n",
              "    <tr>\n",
              "      <th>1</th>\n",
              "      <td>Brasil</td>\n",
              "      <td>Norte</td>\n",
              "    </tr>\n",
              "    <tr>\n",
              "      <th>2</th>\n",
              "      <td>Brasil</td>\n",
              "      <td>Norte</td>\n",
              "    </tr>\n",
              "    <tr>\n",
              "      <th>3</th>\n",
              "      <td>Brasil</td>\n",
              "      <td>Norte</td>\n",
              "    </tr>\n",
              "    <tr>\n",
              "      <th>4</th>\n",
              "      <td>Brasil</td>\n",
              "      <td>Norte</td>\n",
              "    </tr>\n",
              "    <tr>\n",
              "      <th>...</th>\n",
              "      <td>...</td>\n",
              "      <td>...</td>\n",
              "    </tr>\n",
              "    <tr>\n",
              "      <th>31009</th>\n",
              "      <td>Brasil</td>\n",
              "      <td>Centro Oeste</td>\n",
              "    </tr>\n",
              "    <tr>\n",
              "      <th>31010</th>\n",
              "      <td>Brasil</td>\n",
              "      <td>Centro Oeste</td>\n",
              "    </tr>\n",
              "    <tr>\n",
              "      <th>31011</th>\n",
              "      <td>Brasil</td>\n",
              "      <td>Centro Oeste</td>\n",
              "    </tr>\n",
              "    <tr>\n",
              "      <th>31012</th>\n",
              "      <td>Brasil</td>\n",
              "      <td>Centro Oeste</td>\n",
              "    </tr>\n",
              "    <tr>\n",
              "      <th>31013</th>\n",
              "      <td>Brasil</td>\n",
              "      <td>Centro Oeste</td>\n",
              "    </tr>\n",
              "  </tbody>\n",
              "</table>\n",
              "<p>31014 rows × 2 columns</p>\n",
              "</div>"
            ],
            "text/plain": [
              "         País        Região\n",
              "0      Brasil         Norte\n",
              "1      Brasil         Norte\n",
              "2      Brasil         Norte\n",
              "3      Brasil         Norte\n",
              "4      Brasil         Norte\n",
              "...       ...           ...\n",
              "31009  Brasil  Centro Oeste\n",
              "31010  Brasil  Centro Oeste\n",
              "31011  Brasil  Centro Oeste\n",
              "31012  Brasil  Centro Oeste\n",
              "31013  Brasil  Centro Oeste\n",
              "\n",
              "[31014 rows x 2 columns]"
            ]
          },
          "execution_count": 34,
          "metadata": {},
          "output_type": "execute_result"
        }
      ],
      "source": [
        "df[['País', 'Região']]"
      ]
    },
    {
      "cell_type": "markdown",
      "metadata": {
        "id": "qlJvaWCKT3WK"
      },
      "source": [
        "Como selecionar linhas específicas do DataFrame.\n",
        "\n",
        "| ![Linhas dos Dados](https://pandas.pydata.org/docs/_images/03_subset_rows.svg) |\n",
        "|:--:| \n",
        "| _Linhas dos Dados_ (Fonte da imagem: [Pandas](https://pandas.pydata.org/)) |"
      ]
    },
    {
      "cell_type": "code",
      "execution_count": null,
      "metadata": {
        "id": "v927pFANHOjI"
      },
      "outputs": [],
      "source": [
        "#selecionar areas maior que 200000 hectares\n",
        "\n",
        "values = df['Área (ha)']>200000"
      ]
    },
    {
      "cell_type": "code",
      "execution_count": null,
      "metadata": {
        "colab": {
          "base_uri": "https://localhost:8080/",
          "height": 257
        },
        "id": "V6q06VGtTbMD",
        "outputId": "646df922-3961-4ad8-8942-ab86a8352029"
      },
      "outputs": [
        {
          "data": {
            "text/html": [
              "<div>\n",
              "<style scoped>\n",
              "    .dataframe tbody tr th:only-of-type {\n",
              "        vertical-align: middle;\n",
              "    }\n",
              "\n",
              "    .dataframe tbody tr th {\n",
              "        vertical-align: top;\n",
              "    }\n",
              "\n",
              "    .dataframe thead th {\n",
              "        text-align: right;\n",
              "    }\n",
              "</style>\n",
              "<table border=\"1\" class=\"dataframe\">\n",
              "  <thead>\n",
              "    <tr style=\"text-align: right;\">\n",
              "      <th></th>\n",
              "      <th>Ano (data)</th>\n",
              "      <th>País</th>\n",
              "      <th>Região</th>\n",
              "      <th>Estado</th>\n",
              "      <th>Estado sigla</th>\n",
              "      <th>Município (Municípios)</th>\n",
              "      <th>Município Estado</th>\n",
              "      <th>Latitude</th>\n",
              "      <th>Longitude</th>\n",
              "      <th>Espécie florestal</th>\n",
              "      <th>Área (ha)</th>\n",
              "    </tr>\n",
              "  </thead>\n",
              "  <tbody>\n",
              "    <tr>\n",
              "      <th>28460</th>\n",
              "      <td>31/12/2016</td>\n",
              "      <td>Brasil</td>\n",
              "      <td>Centro Oeste</td>\n",
              "      <td>Mato Grosso do Sul</td>\n",
              "      <td>MS</td>\n",
              "      <td>Ribas do Rio Pardo</td>\n",
              "      <td>Ribas do Rio Pardo (MS)</td>\n",
              "      <td>-20,6</td>\n",
              "      <td>-53,54</td>\n",
              "      <td>Eucalipto</td>\n",
              "      <td>205000.0</td>\n",
              "    </tr>\n",
              "    <tr>\n",
              "      <th>28576</th>\n",
              "      <td>31/12/2015</td>\n",
              "      <td>Brasil</td>\n",
              "      <td>Centro Oeste</td>\n",
              "      <td>Mato Grosso do Sul</td>\n",
              "      <td>MS</td>\n",
              "      <td>Três Lagoas</td>\n",
              "      <td>Três Lagoas (MS)</td>\n",
              "      <td>-20,44</td>\n",
              "      <td>-52,21</td>\n",
              "      <td>Eucalipto</td>\n",
              "      <td>217600.0</td>\n",
              "    </tr>\n",
              "    <tr>\n",
              "      <th>28577</th>\n",
              "      <td>31/12/2016</td>\n",
              "      <td>Brasil</td>\n",
              "      <td>Centro Oeste</td>\n",
              "      <td>Mato Grosso do Sul</td>\n",
              "      <td>MS</td>\n",
              "      <td>Três Lagoas</td>\n",
              "      <td>Três Lagoas (MS)</td>\n",
              "      <td>-20,44</td>\n",
              "      <td>-52,21</td>\n",
              "      <td>Eucalipto</td>\n",
              "      <td>230000.0</td>\n",
              "    </tr>\n",
              "  </tbody>\n",
              "</table>\n",
              "</div>"
            ],
            "text/plain": [
              "       Ano (data)    País        Região              Estado Estado sigla  \\\n",
              "28460  31/12/2016  Brasil  Centro Oeste  Mato Grosso do Sul           MS   \n",
              "28576  31/12/2015  Brasil  Centro Oeste  Mato Grosso do Sul           MS   \n",
              "28577  31/12/2016  Brasil  Centro Oeste  Mato Grosso do Sul           MS   \n",
              "\n",
              "      Município (Municípios)         Município Estado Latitude Longitude  \\\n",
              "28460     Ribas do Rio Pardo  Ribas do Rio Pardo (MS)    -20,6    -53,54   \n",
              "28576            Três Lagoas         Três Lagoas (MS)   -20,44    -52,21   \n",
              "28577            Três Lagoas         Três Lagoas (MS)   -20,44    -52,21   \n",
              "\n",
              "      Espécie florestal  Área (ha)  \n",
              "28460         Eucalipto   205000.0  \n",
              "28576         Eucalipto   217600.0  \n",
              "28577         Eucalipto   230000.0  "
            ]
          },
          "execution_count": 38,
          "metadata": {},
          "output_type": "execute_result"
        }
      ],
      "source": [
        "df[ df['Área (ha)'] > 200000 ]"
      ]
    },
    {
      "cell_type": "code",
      "execution_count": null,
      "metadata": {
        "colab": {
          "base_uri": "https://localhost:8080/"
        },
        "id": "QIOCmiemHaiw",
        "outputId": "bb258130-efe5-400f-8b42-919bc98994e2"
      },
      "outputs": [
        {
          "data": {
            "text/html": [
              "<div>\n",
              "<style scoped>\n",
              "    .dataframe tbody tr th:only-of-type {\n",
              "        vertical-align: middle;\n",
              "    }\n",
              "\n",
              "    .dataframe tbody tr th {\n",
              "        vertical-align: top;\n",
              "    }\n",
              "\n",
              "    .dataframe thead th {\n",
              "        text-align: right;\n",
              "    }\n",
              "</style>\n",
              "<table border=\"1\" class=\"dataframe\">\n",
              "  <thead>\n",
              "    <tr style=\"text-align: right;\">\n",
              "      <th></th>\n",
              "      <th>Ano (data)</th>\n",
              "      <th>País</th>\n",
              "      <th>Região</th>\n",
              "      <th>Estado</th>\n",
              "      <th>Estado sigla</th>\n",
              "      <th>Município (Municípios)</th>\n",
              "      <th>Município Estado</th>\n",
              "      <th>Latitude</th>\n",
              "      <th>Longitude</th>\n",
              "      <th>Espécie florestal</th>\n",
              "      <th>Área (ha)</th>\n",
              "    </tr>\n",
              "  </thead>\n",
              "  <tbody>\n",
              "    <tr>\n",
              "      <th>2700</th>\n",
              "      <td>31/12/2014</td>\n",
              "      <td>Brasil</td>\n",
              "      <td>Nordeste</td>\n",
              "      <td>Alagoas</td>\n",
              "      <td>AL</td>\n",
              "      <td>Cajueiro</td>\n",
              "      <td>Cajueiro (AL)</td>\n",
              "      <td>-9,385</td>\n",
              "      <td>-36,16</td>\n",
              "      <td>Eucalipto</td>\n",
              "      <td>NaN</td>\n",
              "    </tr>\n",
              "    <tr>\n",
              "      <th>2701</th>\n",
              "      <td>31/12/2015</td>\n",
              "      <td>Brasil</td>\n",
              "      <td>Nordeste</td>\n",
              "      <td>Alagoas</td>\n",
              "      <td>AL</td>\n",
              "      <td>Cajueiro</td>\n",
              "      <td>Cajueiro (AL)</td>\n",
              "      <td>-9,385</td>\n",
              "      <td>-36,16</td>\n",
              "      <td>Eucalipto</td>\n",
              "      <td>NaN</td>\n",
              "    </tr>\n",
              "    <tr>\n",
              "      <th>2702</th>\n",
              "      <td>31/12/2016</td>\n",
              "      <td>Brasil</td>\n",
              "      <td>Nordeste</td>\n",
              "      <td>Alagoas</td>\n",
              "      <td>AL</td>\n",
              "      <td>Cajueiro</td>\n",
              "      <td>Cajueiro (AL)</td>\n",
              "      <td>-9,385</td>\n",
              "      <td>-36,16</td>\n",
              "      <td>Eucalipto</td>\n",
              "      <td>175.0</td>\n",
              "    </tr>\n",
              "    <tr>\n",
              "      <th>2703</th>\n",
              "      <td>31/12/2014</td>\n",
              "      <td>Brasil</td>\n",
              "      <td>Nordeste</td>\n",
              "      <td>Alagoas</td>\n",
              "      <td>AL</td>\n",
              "      <td>Cajueiro</td>\n",
              "      <td>Cajueiro (AL)</td>\n",
              "      <td>-9,385</td>\n",
              "      <td>-36,16</td>\n",
              "      <td>Pinus</td>\n",
              "      <td>NaN</td>\n",
              "    </tr>\n",
              "    <tr>\n",
              "      <th>2704</th>\n",
              "      <td>31/12/2015</td>\n",
              "      <td>Brasil</td>\n",
              "      <td>Nordeste</td>\n",
              "      <td>Alagoas</td>\n",
              "      <td>AL</td>\n",
              "      <td>Cajueiro</td>\n",
              "      <td>Cajueiro (AL)</td>\n",
              "      <td>-9,385</td>\n",
              "      <td>-36,16</td>\n",
              "      <td>Pinus</td>\n",
              "      <td>NaN</td>\n",
              "    </tr>\n",
              "    <tr>\n",
              "      <th>2705</th>\n",
              "      <td>31/12/2016</td>\n",
              "      <td>Brasil</td>\n",
              "      <td>Nordeste</td>\n",
              "      <td>Alagoas</td>\n",
              "      <td>AL</td>\n",
              "      <td>Cajueiro</td>\n",
              "      <td>Cajueiro (AL)</td>\n",
              "      <td>-9,385</td>\n",
              "      <td>-36,16</td>\n",
              "      <td>Pinus</td>\n",
              "      <td>0.0</td>\n",
              "    </tr>\n",
              "  </tbody>\n",
              "</table>\n",
              "</div>"
            ],
            "text/plain": [
              "      Ano (data)    País    Região   Estado Estado sigla  \\\n",
              "2700  31/12/2014  Brasil  Nordeste  Alagoas           AL   \n",
              "2701  31/12/2015  Brasil  Nordeste  Alagoas           AL   \n",
              "2702  31/12/2016  Brasil  Nordeste  Alagoas           AL   \n",
              "2703  31/12/2014  Brasil  Nordeste  Alagoas           AL   \n",
              "2704  31/12/2015  Brasil  Nordeste  Alagoas           AL   \n",
              "2705  31/12/2016  Brasil  Nordeste  Alagoas           AL   \n",
              "\n",
              "     Município (Municípios) Município Estado Latitude Longitude  \\\n",
              "2700               Cajueiro    Cajueiro (AL)   -9,385    -36,16   \n",
              "2701               Cajueiro    Cajueiro (AL)   -9,385    -36,16   \n",
              "2702               Cajueiro    Cajueiro (AL)   -9,385    -36,16   \n",
              "2703               Cajueiro    Cajueiro (AL)   -9,385    -36,16   \n",
              "2704               Cajueiro    Cajueiro (AL)   -9,385    -36,16   \n",
              "2705               Cajueiro    Cajueiro (AL)   -9,385    -36,16   \n",
              "\n",
              "     Espécie florestal  Área (ha)  \n",
              "2700         Eucalipto        NaN  \n",
              "2701         Eucalipto        NaN  \n",
              "2702         Eucalipto      175.0  \n",
              "2703             Pinus        NaN  \n",
              "2704             Pinus        NaN  \n",
              "2705             Pinus        0.0  "
            ]
          },
          "execution_count": 45,
          "metadata": {},
          "output_type": "execute_result"
        }
      ],
      "source": [
        "# verificando um indice específico\n",
        "df.loc[2700:2706] #loc infere se vc se refere a indice ou coluna\n",
        "df.iloc[2700:2706] #iloc eh usado especificamente para indices"
      ]
    },
    {
      "cell_type": "code",
      "execution_count": null,
      "metadata": {
        "colab": {
          "base_uri": "https://localhost:8080/"
        },
        "id": "MeSTHObqHf0R",
        "outputId": "c3d82a16-7e07-4052-b7da-223589124405"
      },
      "outputs": [
        {
          "data": {
            "text/plain": [
              "Ano (data)                   0\n",
              "País                         0\n",
              "Região                       0\n",
              "Estado                       0\n",
              "Estado sigla                 0\n",
              "Município (Municípios)       0\n",
              "Município Estado             0\n",
              "Latitude                     0\n",
              "Longitude                    0\n",
              "Espécie florestal            0\n",
              "Área (ha)                 1356\n",
              "dtype: int64"
            ]
          },
          "execution_count": 47,
          "metadata": {},
          "output_type": "execute_result"
        }
      ],
      "source": [
        "# verificando colunas nulas\n",
        "df.isnull().sum()"
      ]
    },
    {
      "cell_type": "markdown",
      "metadata": {
        "id": "NrDx0muFT-7J"
      },
      "source": [
        "Como filtrar colunas e linhas específicas do DataFrame.\n",
        "\n",
        "| ![Filtrando os Dados](https://pandas.pydata.org/docs/_images/03_subset_columns_rows.svg) |\n",
        "|:--:| \n",
        "| _Filtrando os Dados_ (Fonte da imagem: [Pandas](https://pandas.pydata.org/)) |"
      ]
    },
    {
      "cell_type": "code",
      "execution_count": null,
      "metadata": {
        "colab": {
          "base_uri": "https://localhost:8080/"
        },
        "id": "jKrE8QffTbJI",
        "outputId": "7c587e6b-119f-4b8c-dc18-60d6ec635255"
      },
      "outputs": [
        {
          "data": {
            "text/html": [
              "<div>\n",
              "<style scoped>\n",
              "    .dataframe tbody tr th:only-of-type {\n",
              "        vertical-align: middle;\n",
              "    }\n",
              "\n",
              "    .dataframe tbody tr th {\n",
              "        vertical-align: top;\n",
              "    }\n",
              "\n",
              "    .dataframe thead th {\n",
              "        text-align: right;\n",
              "    }\n",
              "</style>\n",
              "<table border=\"1\" class=\"dataframe\">\n",
              "  <thead>\n",
              "    <tr style=\"text-align: right;\">\n",
              "      <th></th>\n",
              "      <th>Estado sigla</th>\n",
              "      <th>País</th>\n",
              "    </tr>\n",
              "  </thead>\n",
              "  <tbody>\n",
              "    <tr>\n",
              "      <th>28460</th>\n",
              "      <td>MS</td>\n",
              "      <td>Brasil</td>\n",
              "    </tr>\n",
              "    <tr>\n",
              "      <th>28576</th>\n",
              "      <td>MS</td>\n",
              "      <td>Brasil</td>\n",
              "    </tr>\n",
              "    <tr>\n",
              "      <th>28577</th>\n",
              "      <td>MS</td>\n",
              "      <td>Brasil</td>\n",
              "    </tr>\n",
              "  </tbody>\n",
              "</table>\n",
              "</div>"
            ],
            "text/plain": [
              "      Estado sigla    País\n",
              "28460           MS  Brasil\n",
              "28576           MS  Brasil\n",
              "28577           MS  Brasil"
            ]
          },
          "execution_count": 54,
          "metadata": {},
          "output_type": "execute_result"
        }
      ],
      "source": [
        "#quero acessar area maior que 200000 e apenas a coluna Estado sigla\n",
        "\n",
        "df[df['Área (ha)'] > 200000]"
      ]
    },
    {
      "cell_type": "code",
      "execution_count": null,
      "metadata": {
        "id": "G6MTMxw6xQwe",
        "outputId": "2e4e861d-0b7d-4739-e3ec-28846b6fb531"
      },
      "outputs": [
        {
          "data": {
            "text/html": [
              "<div>\n",
              "<style scoped>\n",
              "    .dataframe tbody tr th:only-of-type {\n",
              "        vertical-align: middle;\n",
              "    }\n",
              "\n",
              "    .dataframe tbody tr th {\n",
              "        vertical-align: top;\n",
              "    }\n",
              "\n",
              "    .dataframe thead th {\n",
              "        text-align: right;\n",
              "    }\n",
              "</style>\n",
              "<table border=\"1\" class=\"dataframe\">\n",
              "  <thead>\n",
              "    <tr style=\"text-align: right;\">\n",
              "      <th></th>\n",
              "      <th>Estado sigla</th>\n",
              "      <th>País</th>\n",
              "    </tr>\n",
              "  </thead>\n",
              "  <tbody>\n",
              "    <tr>\n",
              "      <th>28460</th>\n",
              "      <td>MS</td>\n",
              "      <td>Brasil</td>\n",
              "    </tr>\n",
              "    <tr>\n",
              "      <th>28576</th>\n",
              "      <td>MS</td>\n",
              "      <td>Brasil</td>\n",
              "    </tr>\n",
              "    <tr>\n",
              "      <th>28577</th>\n",
              "      <td>MS</td>\n",
              "      <td>Brasil</td>\n",
              "    </tr>\n",
              "  </tbody>\n",
              "</table>\n",
              "</div>"
            ],
            "text/plain": [
              "      Estado sigla    País\n",
              "28460           MS  Brasil\n",
              "28576           MS  Brasil\n",
              "28577           MS  Brasil"
            ]
          },
          "execution_count": 58,
          "metadata": {},
          "output_type": "execute_result"
        }
      ],
      "source": [
        "df.loc[df['Área (ha)'] > 200000, ['Estado sigla', 'País']]"
      ]
    },
    {
      "cell_type": "code",
      "execution_count": null,
      "metadata": {
        "id": "VNtkMADgxQwe",
        "outputId": "c7cbfa63-4c56-455d-fcc2-96753001dec7"
      },
      "outputs": [
        {
          "data": {
            "text/html": [
              "<div>\n",
              "<style scoped>\n",
              "    .dataframe tbody tr th:only-of-type {\n",
              "        vertical-align: middle;\n",
              "    }\n",
              "\n",
              "    .dataframe tbody tr th {\n",
              "        vertical-align: top;\n",
              "    }\n",
              "\n",
              "    .dataframe thead th {\n",
              "        text-align: right;\n",
              "    }\n",
              "</style>\n",
              "<table border=\"1\" class=\"dataframe\">\n",
              "  <thead>\n",
              "    <tr style=\"text-align: right;\">\n",
              "      <th></th>\n",
              "      <th>Estado sigla</th>\n",
              "      <th>País</th>\n",
              "    </tr>\n",
              "  </thead>\n",
              "  <tbody>\n",
              "    <tr>\n",
              "      <th>1</th>\n",
              "      <td>RO</td>\n",
              "      <td>Brasil</td>\n",
              "    </tr>\n",
              "    <tr>\n",
              "      <th>3</th>\n",
              "      <td>RO</td>\n",
              "      <td>Brasil</td>\n",
              "    </tr>\n",
              "    <tr>\n",
              "      <th>5</th>\n",
              "      <td>RO</td>\n",
              "      <td>Brasil</td>\n",
              "    </tr>\n",
              "    <tr>\n",
              "      <th>8</th>\n",
              "      <td>RO</td>\n",
              "      <td>Brasil</td>\n",
              "    </tr>\n",
              "  </tbody>\n",
              "</table>\n",
              "</div>"
            ],
            "text/plain": [
              "  Estado sigla    País\n",
              "1           RO  Brasil\n",
              "3           RO  Brasil\n",
              "5           RO  Brasil\n",
              "8           RO  Brasil"
            ]
          },
          "execution_count": 60,
          "metadata": {},
          "output_type": "execute_result"
        }
      ],
      "source": [
        "\n",
        "df.loc[[1, 3, 5, 8], ['Estado sigla', 'País']]"
      ]
    },
    {
      "cell_type": "code",
      "execution_count": null,
      "metadata": {
        "id": "WGfvvMm9xQwe",
        "outputId": "902eb681-3673-4d8d-b5de-70042cea7cf3"
      },
      "outputs": [
        {
          "data": {
            "text/html": [
              "<div>\n",
              "<style scoped>\n",
              "    .dataframe tbody tr th:only-of-type {\n",
              "        vertical-align: middle;\n",
              "    }\n",
              "\n",
              "    .dataframe tbody tr th {\n",
              "        vertical-align: top;\n",
              "    }\n",
              "\n",
              "    .dataframe thead th {\n",
              "        text-align: right;\n",
              "    }\n",
              "</style>\n",
              "<table border=\"1\" class=\"dataframe\">\n",
              "  <thead>\n",
              "    <tr style=\"text-align: right;\">\n",
              "      <th></th>\n",
              "      <th>Estado sigla</th>\n",
              "      <th>País</th>\n",
              "    </tr>\n",
              "  </thead>\n",
              "  <tbody>\n",
              "    <tr>\n",
              "      <th>1</th>\n",
              "      <td>RO</td>\n",
              "      <td>Brasil</td>\n",
              "    </tr>\n",
              "    <tr>\n",
              "      <th>2</th>\n",
              "      <td>RO</td>\n",
              "      <td>Brasil</td>\n",
              "    </tr>\n",
              "    <tr>\n",
              "      <th>3</th>\n",
              "      <td>RO</td>\n",
              "      <td>Brasil</td>\n",
              "    </tr>\n",
              "    <tr>\n",
              "      <th>4</th>\n",
              "      <td>RO</td>\n",
              "      <td>Brasil</td>\n",
              "    </tr>\n",
              "    <tr>\n",
              "      <th>5</th>\n",
              "      <td>RO</td>\n",
              "      <td>Brasil</td>\n",
              "    </tr>\n",
              "    <tr>\n",
              "      <th>6</th>\n",
              "      <td>RO</td>\n",
              "      <td>Brasil</td>\n",
              "    </tr>\n",
              "    <tr>\n",
              "      <th>7</th>\n",
              "      <td>RO</td>\n",
              "      <td>Brasil</td>\n",
              "    </tr>\n",
              "    <tr>\n",
              "      <th>8</th>\n",
              "      <td>RO</td>\n",
              "      <td>Brasil</td>\n",
              "    </tr>\n",
              "    <tr>\n",
              "      <th>9</th>\n",
              "      <td>RO</td>\n",
              "      <td>Brasil</td>\n",
              "    </tr>\n",
              "    <tr>\n",
              "      <th>10</th>\n",
              "      <td>RO</td>\n",
              "      <td>Brasil</td>\n",
              "    </tr>\n",
              "  </tbody>\n",
              "</table>\n",
              "</div>"
            ],
            "text/plain": [
              "   Estado sigla    País\n",
              "1            RO  Brasil\n",
              "2            RO  Brasil\n",
              "3            RO  Brasil\n",
              "4            RO  Brasil\n",
              "5            RO  Brasil\n",
              "6            RO  Brasil\n",
              "7            RO  Brasil\n",
              "8            RO  Brasil\n",
              "9            RO  Brasil\n",
              "10           RO  Brasil"
            ]
          },
          "execution_count": 64,
          "metadata": {},
          "output_type": "execute_result"
        }
      ],
      "source": [
        "df.loc[1:10, ['Estado sigla', 'País']]"
      ]
    },
    {
      "cell_type": "code",
      "execution_count": null,
      "metadata": {
        "id": "2C4dKgYzxQwf",
        "outputId": "2e2a2f00-8216-4345-e9bc-89bfe5801a1e"
      },
      "outputs": [
        {
          "data": {
            "text/plain": [
              "28460    MS\n",
              "28576    MS\n",
              "28577    MS\n",
              "Name: Estado sigla, dtype: object"
            ]
          },
          "execution_count": 53,
          "metadata": {},
          "output_type": "execute_result"
        }
      ],
      "source": [
        "df[df['Área (ha)'] > 200000]['Estado sigla']"
      ]
    },
    {
      "cell_type": "code",
      "execution_count": null,
      "metadata": {
        "colab": {
          "base_uri": "https://localhost:8080/",
          "height": 143
        },
        "id": "QnhR1c9yTbGD",
        "outputId": "8f237f91-7d1e-4dc5-df8c-e149e3636b50"
      },
      "outputs": [
        {
          "data": {
            "text/html": [
              "<div>\n",
              "<style scoped>\n",
              "    .dataframe tbody tr th:only-of-type {\n",
              "        vertical-align: middle;\n",
              "    }\n",
              "\n",
              "    .dataframe tbody tr th {\n",
              "        vertical-align: top;\n",
              "    }\n",
              "\n",
              "    .dataframe thead th {\n",
              "        text-align: right;\n",
              "    }\n",
              "</style>\n",
              "<table border=\"1\" class=\"dataframe\">\n",
              "  <thead>\n",
              "    <tr style=\"text-align: right;\">\n",
              "      <th></th>\n",
              "      <th>Ano (data)</th>\n",
              "      <th>Estado sigla</th>\n",
              "      <th>Área (ha)</th>\n",
              "    </tr>\n",
              "  </thead>\n",
              "  <tbody>\n",
              "    <tr>\n",
              "      <th>28460</th>\n",
              "      <td>31/12/2016</td>\n",
              "      <td>MS</td>\n",
              "      <td>205000.0</td>\n",
              "    </tr>\n",
              "    <tr>\n",
              "      <th>28576</th>\n",
              "      <td>31/12/2015</td>\n",
              "      <td>MS</td>\n",
              "      <td>217600.0</td>\n",
              "    </tr>\n",
              "    <tr>\n",
              "      <th>28577</th>\n",
              "      <td>31/12/2016</td>\n",
              "      <td>MS</td>\n",
              "      <td>230000.0</td>\n",
              "    </tr>\n",
              "  </tbody>\n",
              "</table>\n",
              "</div>"
            ],
            "text/plain": [
              "       Ano (data) Estado sigla  Área (ha)\n",
              "28460  31/12/2016           MS   205000.0\n",
              "28576  31/12/2015           MS   217600.0\n",
              "28577  31/12/2016           MS   230000.0"
            ]
          },
          "execution_count": 51,
          "metadata": {},
          "output_type": "execute_result"
        }
      ],
      "source": [
        "df[df['Área (ha)'] > 200000][['Ano (data)', 'Estado sigla', 'Área (ha)']]"
      ]
    },
    {
      "cell_type": "markdown",
      "metadata": {
        "id": "qEnH2NDSV53g"
      },
      "source": [
        "Como criar novas colunas no DataFrame.\n",
        "\n",
        "| ![Novas Colunas](https://pandas.pydata.org/docs/_images/05_newcolumn_1.svg) |\n",
        "|:--:| \n",
        "| _Novas Colunas_ (Fonte da imagem: [Pandas](https://pandas.pydata.org/)) |"
      ]
    },
    {
      "cell_type": "code",
      "execution_count": null,
      "metadata": {
        "id": "uTcE8Z0MTbDE"
      },
      "outputs": [],
      "source": [
        "df['Nova Coluna'] = df['País'] "
      ]
    },
    {
      "cell_type": "code",
      "execution_count": null,
      "metadata": {
        "colab": {
          "base_uri": "https://localhost:8080/",
          "height": 208
        },
        "id": "6INy0oG5KPUh",
        "outputId": "3540ff57-b49a-4bf4-fefb-c09f2d32c28f"
      },
      "outputs": [
        {
          "data": {
            "text/html": [
              "<div>\n",
              "<style scoped>\n",
              "    .dataframe tbody tr th:only-of-type {\n",
              "        vertical-align: middle;\n",
              "    }\n",
              "\n",
              "    .dataframe tbody tr th {\n",
              "        vertical-align: top;\n",
              "    }\n",
              "\n",
              "    .dataframe thead th {\n",
              "        text-align: right;\n",
              "    }\n",
              "</style>\n",
              "<table border=\"1\" class=\"dataframe\">\n",
              "  <thead>\n",
              "    <tr style=\"text-align: right;\">\n",
              "      <th></th>\n",
              "      <th>Ano (data)</th>\n",
              "      <th>País</th>\n",
              "      <th>Região</th>\n",
              "      <th>Estado</th>\n",
              "      <th>Estado sigla</th>\n",
              "      <th>Município (Municípios)</th>\n",
              "      <th>Município Estado</th>\n",
              "      <th>Latitude</th>\n",
              "      <th>Longitude</th>\n",
              "      <th>Espécie florestal</th>\n",
              "      <th>Área (ha)</th>\n",
              "      <th>Nova Coluna</th>\n",
              "    </tr>\n",
              "  </thead>\n",
              "  <tbody>\n",
              "    <tr>\n",
              "      <th>0</th>\n",
              "      <td>31/12/2014</td>\n",
              "      <td>Brasil</td>\n",
              "      <td>Norte</td>\n",
              "      <td>Rondônia</td>\n",
              "      <td>RO</td>\n",
              "      <td>Alta Floresta D'Oeste</td>\n",
              "      <td>Alta Floresta D'Oeste (RO)</td>\n",
              "      <td>-12,47</td>\n",
              "      <td>-62,27</td>\n",
              "      <td>Eucalipto</td>\n",
              "      <td>0.0</td>\n",
              "      <td>Brasil</td>\n",
              "    </tr>\n",
              "    <tr>\n",
              "      <th>1</th>\n",
              "      <td>31/12/2015</td>\n",
              "      <td>Brasil</td>\n",
              "      <td>Norte</td>\n",
              "      <td>Rondônia</td>\n",
              "      <td>RO</td>\n",
              "      <td>Alta Floresta D'Oeste</td>\n",
              "      <td>Alta Floresta D'Oeste (RO)</td>\n",
              "      <td>-12,47</td>\n",
              "      <td>-62,27</td>\n",
              "      <td>Eucalipto</td>\n",
              "      <td>0.0</td>\n",
              "      <td>Brasil</td>\n",
              "    </tr>\n",
              "    <tr>\n",
              "      <th>2</th>\n",
              "      <td>31/12/2016</td>\n",
              "      <td>Brasil</td>\n",
              "      <td>Norte</td>\n",
              "      <td>Rondônia</td>\n",
              "      <td>RO</td>\n",
              "      <td>Alta Floresta D'Oeste</td>\n",
              "      <td>Alta Floresta D'Oeste (RO)</td>\n",
              "      <td>-12,47</td>\n",
              "      <td>-62,27</td>\n",
              "      <td>Eucalipto</td>\n",
              "      <td>0.0</td>\n",
              "      <td>Brasil</td>\n",
              "    </tr>\n",
              "    <tr>\n",
              "      <th>3</th>\n",
              "      <td>31/12/2014</td>\n",
              "      <td>Brasil</td>\n",
              "      <td>Norte</td>\n",
              "      <td>Rondônia</td>\n",
              "      <td>RO</td>\n",
              "      <td>Alta Floresta D'Oeste</td>\n",
              "      <td>Alta Floresta D'Oeste (RO)</td>\n",
              "      <td>-12,47</td>\n",
              "      <td>-62,27</td>\n",
              "      <td>Pinus</td>\n",
              "      <td>0.0</td>\n",
              "      <td>Brasil</td>\n",
              "    </tr>\n",
              "    <tr>\n",
              "      <th>4</th>\n",
              "      <td>31/12/2015</td>\n",
              "      <td>Brasil</td>\n",
              "      <td>Norte</td>\n",
              "      <td>Rondônia</td>\n",
              "      <td>RO</td>\n",
              "      <td>Alta Floresta D'Oeste</td>\n",
              "      <td>Alta Floresta D'Oeste (RO)</td>\n",
              "      <td>-12,47</td>\n",
              "      <td>-62,27</td>\n",
              "      <td>Pinus</td>\n",
              "      <td>0.0</td>\n",
              "      <td>Brasil</td>\n",
              "    </tr>\n",
              "  </tbody>\n",
              "</table>\n",
              "</div>"
            ],
            "text/plain": [
              "   Ano (data)    País Região    Estado Estado sigla Município (Municípios)  \\\n",
              "0  31/12/2014  Brasil  Norte  Rondônia           RO  Alta Floresta D'Oeste   \n",
              "1  31/12/2015  Brasil  Norte  Rondônia           RO  Alta Floresta D'Oeste   \n",
              "2  31/12/2016  Brasil  Norte  Rondônia           RO  Alta Floresta D'Oeste   \n",
              "3  31/12/2014  Brasil  Norte  Rondônia           RO  Alta Floresta D'Oeste   \n",
              "4  31/12/2015  Brasil  Norte  Rondônia           RO  Alta Floresta D'Oeste   \n",
              "\n",
              "             Município Estado Latitude Longitude Espécie florestal  Área (ha)  \\\n",
              "0  Alta Floresta D'Oeste (RO)   -12,47    -62,27         Eucalipto        0.0   \n",
              "1  Alta Floresta D'Oeste (RO)   -12,47    -62,27         Eucalipto        0.0   \n",
              "2  Alta Floresta D'Oeste (RO)   -12,47    -62,27         Eucalipto        0.0   \n",
              "3  Alta Floresta D'Oeste (RO)   -12,47    -62,27             Pinus        0.0   \n",
              "4  Alta Floresta D'Oeste (RO)   -12,47    -62,27             Pinus        0.0   \n",
              "\n",
              "  Nova Coluna  \n",
              "0      Brasil  \n",
              "1      Brasil  \n",
              "2      Brasil  \n",
              "3      Brasil  \n",
              "4      Brasil  "
            ]
          },
          "execution_count": 77,
          "metadata": {},
          "output_type": "execute_result"
        }
      ],
      "source": [
        "df.head(5)"
      ]
    },
    {
      "cell_type": "code",
      "execution_count": null,
      "metadata": {
        "id": "2PEpEyx1KXzJ"
      },
      "outputs": [],
      "source": [
        "# valores_area = df['Área (ha)']\n",
        "\n",
        "# df['Nível'] = ['Alto' if area > 200000 else 'Baixo' for area in valores_area]\n",
        "\n",
        "df['Nível'] = ['Alto' if area > 200000 else 'Baixo' for area in df['Área (ha)']]\n",
        "\n",
        "# valores_nivel = []\n",
        "\n",
        "# for area in valores_area:\n",
        "#     if area > 200000:\n",
        "#         valores_nivel.append(\"Alto\")\n",
        "#     else:\n",
        "#         valores_nivel.append(\"Baixo\")\n",
        "\n",
        "# df['Nível'] = valores_nivel"
      ]
    },
    {
      "cell_type": "code",
      "execution_count": null,
      "metadata": {
        "id": "uh16zWpixQwh",
        "outputId": "3af937a3-f39f-49fd-e866-56da3a167d6d"
      },
      "outputs": [
        {
          "data": {
            "text/html": [
              "<div>\n",
              "<style scoped>\n",
              "    .dataframe tbody tr th:only-of-type {\n",
              "        vertical-align: middle;\n",
              "    }\n",
              "\n",
              "    .dataframe tbody tr th {\n",
              "        vertical-align: top;\n",
              "    }\n",
              "\n",
              "    .dataframe thead th {\n",
              "        text-align: right;\n",
              "    }\n",
              "</style>\n",
              "<table border=\"1\" class=\"dataframe\">\n",
              "  <thead>\n",
              "    <tr style=\"text-align: right;\">\n",
              "      <th></th>\n",
              "      <th>Ano (data)</th>\n",
              "      <th>País</th>\n",
              "      <th>Região</th>\n",
              "      <th>Estado</th>\n",
              "      <th>Estado sigla</th>\n",
              "      <th>Município (Municípios)</th>\n",
              "      <th>Município Estado</th>\n",
              "      <th>Latitude</th>\n",
              "      <th>Longitude</th>\n",
              "      <th>Espécie florestal</th>\n",
              "      <th>Área (ha)</th>\n",
              "      <th>Nova Coluna</th>\n",
              "      <th>Nível</th>\n",
              "    </tr>\n",
              "  </thead>\n",
              "  <tbody>\n",
              "    <tr>\n",
              "      <th>0</th>\n",
              "      <td>31/12/2014</td>\n",
              "      <td>Brasil</td>\n",
              "      <td>Norte</td>\n",
              "      <td>Rondônia</td>\n",
              "      <td>RO</td>\n",
              "      <td>Alta Floresta D'Oeste</td>\n",
              "      <td>Alta Floresta D'Oeste (RO)</td>\n",
              "      <td>-12,47</td>\n",
              "      <td>-62,27</td>\n",
              "      <td>Eucalipto</td>\n",
              "      <td>0.0</td>\n",
              "      <td>Brasil</td>\n",
              "      <td>Baixo</td>\n",
              "    </tr>\n",
              "    <tr>\n",
              "      <th>1</th>\n",
              "      <td>31/12/2015</td>\n",
              "      <td>Brasil</td>\n",
              "      <td>Norte</td>\n",
              "      <td>Rondônia</td>\n",
              "      <td>RO</td>\n",
              "      <td>Alta Floresta D'Oeste</td>\n",
              "      <td>Alta Floresta D'Oeste (RO)</td>\n",
              "      <td>-12,47</td>\n",
              "      <td>-62,27</td>\n",
              "      <td>Eucalipto</td>\n",
              "      <td>0.0</td>\n",
              "      <td>Brasil</td>\n",
              "      <td>Baixo</td>\n",
              "    </tr>\n",
              "    <tr>\n",
              "      <th>2</th>\n",
              "      <td>31/12/2016</td>\n",
              "      <td>Brasil</td>\n",
              "      <td>Norte</td>\n",
              "      <td>Rondônia</td>\n",
              "      <td>RO</td>\n",
              "      <td>Alta Floresta D'Oeste</td>\n",
              "      <td>Alta Floresta D'Oeste (RO)</td>\n",
              "      <td>-12,47</td>\n",
              "      <td>-62,27</td>\n",
              "      <td>Eucalipto</td>\n",
              "      <td>0.0</td>\n",
              "      <td>Brasil</td>\n",
              "      <td>Baixo</td>\n",
              "    </tr>\n",
              "    <tr>\n",
              "      <th>3</th>\n",
              "      <td>31/12/2014</td>\n",
              "      <td>Brasil</td>\n",
              "      <td>Norte</td>\n",
              "      <td>Rondônia</td>\n",
              "      <td>RO</td>\n",
              "      <td>Alta Floresta D'Oeste</td>\n",
              "      <td>Alta Floresta D'Oeste (RO)</td>\n",
              "      <td>-12,47</td>\n",
              "      <td>-62,27</td>\n",
              "      <td>Pinus</td>\n",
              "      <td>0.0</td>\n",
              "      <td>Brasil</td>\n",
              "      <td>Baixo</td>\n",
              "    </tr>\n",
              "    <tr>\n",
              "      <th>4</th>\n",
              "      <td>31/12/2015</td>\n",
              "      <td>Brasil</td>\n",
              "      <td>Norte</td>\n",
              "      <td>Rondônia</td>\n",
              "      <td>RO</td>\n",
              "      <td>Alta Floresta D'Oeste</td>\n",
              "      <td>Alta Floresta D'Oeste (RO)</td>\n",
              "      <td>-12,47</td>\n",
              "      <td>-62,27</td>\n",
              "      <td>Pinus</td>\n",
              "      <td>0.0</td>\n",
              "      <td>Brasil</td>\n",
              "      <td>Baixo</td>\n",
              "    </tr>\n",
              "  </tbody>\n",
              "</table>\n",
              "</div>"
            ],
            "text/plain": [
              "   Ano (data)    País Região    Estado Estado sigla Município (Municípios)  \\\n",
              "0  31/12/2014  Brasil  Norte  Rondônia           RO  Alta Floresta D'Oeste   \n",
              "1  31/12/2015  Brasil  Norte  Rondônia           RO  Alta Floresta D'Oeste   \n",
              "2  31/12/2016  Brasil  Norte  Rondônia           RO  Alta Floresta D'Oeste   \n",
              "3  31/12/2014  Brasil  Norte  Rondônia           RO  Alta Floresta D'Oeste   \n",
              "4  31/12/2015  Brasil  Norte  Rondônia           RO  Alta Floresta D'Oeste   \n",
              "\n",
              "             Município Estado Latitude Longitude Espécie florestal  Área (ha)  \\\n",
              "0  Alta Floresta D'Oeste (RO)   -12,47    -62,27         Eucalipto        0.0   \n",
              "1  Alta Floresta D'Oeste (RO)   -12,47    -62,27         Eucalipto        0.0   \n",
              "2  Alta Floresta D'Oeste (RO)   -12,47    -62,27         Eucalipto        0.0   \n",
              "3  Alta Floresta D'Oeste (RO)   -12,47    -62,27             Pinus        0.0   \n",
              "4  Alta Floresta D'Oeste (RO)   -12,47    -62,27             Pinus        0.0   \n",
              "\n",
              "  Nova Coluna  Nível  \n",
              "0      Brasil  Baixo  \n",
              "1      Brasil  Baixo  \n",
              "2      Brasil  Baixo  \n",
              "3      Brasil  Baixo  \n",
              "4      Brasil  Baixo  "
            ]
          },
          "execution_count": 86,
          "metadata": {},
          "output_type": "execute_result"
        }
      ],
      "source": [
        "df.head()"
      ]
    },
    {
      "cell_type": "code",
      "execution_count": null,
      "metadata": {
        "id": "Az1hDaYPxQwh",
        "outputId": "ae33177c-79e7-498e-9e4d-560dd30e96fe"
      },
      "outputs": [
        {
          "data": {
            "text/plain": [
              "Index(['Ano (data)', 'País', 'Região', 'Estado', 'Estado sigla',\n",
              "       'Município (Municípios)', 'Município Estado', 'Latitude', 'Longitude',\n",
              "       'Espécie florestal', 'Área (ha)', 'Nova Coluna', 'Nível'],\n",
              "      dtype='object')"
            ]
          },
          "execution_count": 84,
          "metadata": {},
          "output_type": "execute_result"
        }
      ],
      "source": [
        "df.columns"
      ]
    },
    {
      "cell_type": "code",
      "execution_count": null,
      "metadata": {
        "id": "6fzoQCoGTa_9"
      },
      "outputs": [],
      "source": [
        "# verificando a nova coluna criada\n"
      ]
    },
    {
      "cell_type": "code",
      "execution_count": null,
      "metadata": {
        "id": "tsxm_HYeTa8k"
      },
      "outputs": [],
      "source": [
        "# principais medidas estatisticas para as variáveis numéricas\n"
      ]
    },
    {
      "cell_type": "code",
      "execution_count": null,
      "metadata": {
        "id": "8VskYg39Ta5E"
      },
      "outputs": [],
      "source": [
        "# calculando as medidas de agregação"
      ]
    },
    {
      "cell_type": "code",
      "execution_count": null,
      "metadata": {
        "id": "gPEZzSSkXy7f"
      },
      "outputs": [],
      "source": [
        "# media\n"
      ]
    },
    {
      "cell_type": "code",
      "execution_count": null,
      "metadata": {
        "id": "FCRR8oqNX5do"
      },
      "outputs": [],
      "source": [
        "# mediana\n"
      ]
    },
    {
      "cell_type": "code",
      "execution_count": null,
      "metadata": {
        "id": "f2cVZjjuX5aB"
      },
      "outputs": [],
      "source": [
        "# soma\n"
      ]
    },
    {
      "cell_type": "markdown",
      "metadata": {
        "id": "v3ByjISIYKPZ"
      },
      "source": [
        "Como criar medidas agregadas agrpando por categoria no DataFrame.\n",
        "\n",
        "| ![Group by](https://pandas.pydata.org/docs/_images/06_groupby.svg) |\n",
        "|:--:| \n",
        "| _Group by_ (Fonte da imagem: [Pandas](https://pandas.pydata.org/)) |"
      ]
    },
    {
      "cell_type": "code",
      "execution_count": null,
      "metadata": {
        "id": "_MIAooU0X5WF"
      },
      "outputs": [],
      "source": [
        "# media por estado\n"
      ]
    },
    {
      "cell_type": "code",
      "execution_count": null,
      "metadata": {
        "id": "4hYx0lAyX5PF"
      },
      "outputs": [],
      "source": [
        "# soma por especie"
      ]
    },
    {
      "cell_type": "code",
      "execution_count": null,
      "metadata": {
        "id": "ZeEq5TsoZFg4"
      },
      "outputs": [],
      "source": [
        "# contando os registros por categoria\n"
      ]
    },
    {
      "cell_type": "code",
      "execution_count": null,
      "metadata": {
        "id": "QXWVZ-WGQXzI"
      },
      "outputs": [],
      "source": []
    },
    {
      "cell_type": "code",
      "execution_count": null,
      "metadata": {
        "id": "JzTfcEKZQtC9"
      },
      "outputs": [],
      "source": []
    },
    {
      "cell_type": "code",
      "execution_count": null,
      "metadata": {
        "id": "v97CaJHVQ0Ie"
      },
      "outputs": [],
      "source": []
    },
    {
      "cell_type": "code",
      "execution_count": null,
      "metadata": {
        "id": "LcTViP4kQ6to"
      },
      "outputs": [],
      "source": [
        "# verificando a quantidade de registros de todas as colunas\n"
      ]
    },
    {
      "cell_type": "code",
      "execution_count": null,
      "metadata": {
        "id": "MIrP7gMqZLd7"
      },
      "outputs": [],
      "source": [
        "# buscando registros por string\n"
      ]
    },
    {
      "cell_type": "code",
      "execution_count": null,
      "metadata": {
        "id": "9ufYhkceSQ-V"
      },
      "outputs": [],
      "source": []
    },
    {
      "cell_type": "code",
      "execution_count": null,
      "metadata": {
        "id": "J5hq74IFZLay"
      },
      "outputs": [],
      "source": [
        "# selecionando o primeiro nome de uma variavel do tipo string\n"
      ]
    },
    {
      "cell_type": "code",
      "execution_count": null,
      "metadata": {
        "id": "90lYsL2mZLTC"
      },
      "outputs": [],
      "source": [
        "# selecionando o valor distinto variavel do tipo string\n"
      ]
    },
    {
      "cell_type": "code",
      "execution_count": null,
      "metadata": {
        "id": "SxxKtrEoTmuz"
      },
      "outputs": [],
      "source": []
    },
    {
      "cell_type": "code",
      "execution_count": null,
      "metadata": {
        "id": "gtW-4gkM6Jhi"
      },
      "outputs": [],
      "source": [
        "# removendo colunas do dataframe\n"
      ]
    },
    {
      "cell_type": "code",
      "execution_count": null,
      "metadata": {
        "id": "mVl8vvCg6JeZ"
      },
      "outputs": [],
      "source": [
        "# renomeando colunas do dataframe\n"
      ]
    },
    {
      "cell_type": "code",
      "execution_count": null,
      "metadata": {
        "id": "NPyIYrVb6JbJ"
      },
      "outputs": [],
      "source": [
        "# ordenando os dado do dataframe\n"
      ]
    },
    {
      "cell_type": "code",
      "execution_count": null,
      "metadata": {
        "id": "GvmbcWyK9Ajr"
      },
      "outputs": [],
      "source": []
    },
    {
      "cell_type": "code",
      "execution_count": null,
      "metadata": {
        "id": "hCoc6h9QVm7j"
      },
      "outputs": [],
      "source": []
    },
    {
      "cell_type": "code",
      "execution_count": null,
      "metadata": {
        "id": "_ylL6aRL6JVr"
      },
      "outputs": [],
      "source": [
        "# gravando os dados em arquivo csv\n"
      ]
    },
    {
      "cell_type": "code",
      "execution_count": null,
      "metadata": {
        "id": "qXz4JQPmWB0s"
      },
      "outputs": [],
      "source": [
        "# lendo um arquivo csv local\n"
      ]
    },
    {
      "cell_type": "code",
      "execution_count": null,
      "metadata": {
        "id": "az1kf_9DWJFn"
      },
      "outputs": [],
      "source": []
    },
    {
      "cell_type": "markdown",
      "metadata": {
        "id": "OPMRMK4LXFCt"
      },
      "source": [
        "### Outros Exemplos"
      ]
    },
    {
      "cell_type": "code",
      "execution_count": null,
      "metadata": {
        "id": "erhB2xzfXHfd"
      },
      "outputs": [],
      "source": []
    },
    {
      "cell_type": "code",
      "execution_count": null,
      "metadata": {
        "id": "Qn1pFY_VXNBT"
      },
      "outputs": [],
      "source": []
    },
    {
      "cell_type": "code",
      "execution_count": null,
      "metadata": {
        "id": "NJeRKSReXV59"
      },
      "outputs": [],
      "source": []
    },
    {
      "cell_type": "code",
      "execution_count": null,
      "metadata": {
        "id": "lyvGW6p4xQwo"
      },
      "outputs": [],
      "source": []
    }
  ],
  "metadata": {
    "colab": {
      "collapsed_sections": [
        "J11TWEzIPqV4",
        "aIzrq3q8Pt8V",
        "VVj-kUanPvrO",
        "8RXo5si_QIpb",
        "OPMRMK4LXFCt"
      ],
      "provenance": []
    },
    "kernelspec": {
      "display_name": "Python 3.8.10 64-bit",
      "language": "python",
      "name": "python3"
    },
    "language_info": {
      "codemirror_mode": {
        "name": "ipython",
        "version": 3
      },
      "file_extension": ".py",
      "mimetype": "text/x-python",
      "name": "python",
      "nbconvert_exporter": "python",
      "pygments_lexer": "ipython3",
      "version": "3.8.10"
    },
    "vscode": {
      "interpreter": {
        "hash": "916dbcbb3f70747c44a77c7bcd40155683ae19c65e1c03b4aa3499c5328201f1"
      }
    }
  },
  "nbformat": 4,
  "nbformat_minor": 0
}