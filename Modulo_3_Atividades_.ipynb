{
  "nbformat": 4,
  "nbformat_minor": 0,
  "metadata": {
    "colab": {
      "provenance": [],
      "collapsed_sections": []
    },
    "kernelspec": {
      "name": "python3",
      "display_name": "Python 3"
    },
    "language_info": {
      "name": "python"
    }
  },
  "cells": [
    {
      "cell_type": "markdown",
      "source": [
        "# AULA 2 - ATIVIDADE"
      ],
      "metadata": {
        "id": "joWvdug6cBU0"
      }
    },
    {
      "cell_type": "markdown",
      "source": [
        "**Os exercícios devem ser colocado em um repositória Git público e a URL do projeto deve ser enviada para: pablo.bizzi@gmail.com e compartilhar o repositório no Github. Meu usuário é pablobizzi**"
      ],
      "metadata": {
        "id": "UnpWW1lucSB0"
      }
    },
    {
      "cell_type": "markdown",
      "source": [
        "1 - Faça um algoritmo que solicite ao usuário números e os armazene em um vetor de 5 posições. Crie uma função que recebe o vetor preenchido e substitua todas as ocorrência de valores positivos por 1 e todos os valores negativos por 0."
      ],
      "metadata": {
        "id": "AYkwqHCib6lN"
      }
    },
    {
      "cell_type": "code",
      "source": [
        "def vetor():\n",
        "  import numpy as np \n",
        "  vetor = [0]*5\n",
        "  for n in range(5):\n",
        "    f = int(input('Digite um número: '))\n",
        "    vetor[n] = f\n",
        "  array = np.array(vetor)\n",
        "  print(array)\n",
        "  for n in range(5):\n",
        "    if array[n] < 0:\n",
        "      array[n] = 0\n",
        "    else:\n",
        "      array[n] =1\n",
        "  print(array)\n",
        "vetor()"
      ],
      "metadata": {
        "id": "Voo2JVDgb5w0"
      },
      "execution_count": null,
      "outputs": []
    },
    {
      "cell_type": "markdown",
      "source": [
        "2 - Faça um algoritmo que solicita 2 arrays diferentes de 3 posições que irão representar as 3 notas de 2 alunos da instituição. Após isso, faça a média do somatório de todos os valores dos dois arrays."
      ],
      "metadata": {
        "id": "kPIqq43NbyeW"
      }
    },
    {
      "cell_type": "code",
      "execution_count": null,
      "metadata": {
        "id": "NcYq8MSMbayt"
      },
      "outputs": [],
      "source": [
        "import numpy as np \n",
        "aluno1 = [0]*3\n",
        "aluno2 = [0]*3\n",
        "for n in range(3):\n",
        "  n1 = int(input(f'1° Aluno: Informe a {n+1}° nota: '))\n",
        "  aluno1[n] = n1\n",
        "aluno1 = np.array(aluno1)\n",
        "for n in range(3):\n",
        "  n2 = int(input(f'2° Aluno: Informe a {n+1}° nota: '))\n",
        "  aluno2[n] = n2\n",
        "aluno2 = np.array(aluno2)\n",
        "\n",
        "print(aluno1)\n",
        "print(aluno2)\n",
        "print(f'A media geral é {round(sum(aluno1+aluno2)/(aluno1.size+aluno2.size)),2}')"
      ]
    },
    {
      "cell_type": "markdown",
      "source": [
        "# AULA 3 - ATIVIDADE"
      ],
      "metadata": {
        "id": "x9FSBSo4YehC"
      }
    },
    {
      "cell_type": "markdown",
      "source": [
        "1° GERE UMA MATRIZ COM VALORES ALEATÓRIOS INTEIROS E FAÇA UMA FUNÇÃO QUE RETORNE A SOMA DOS ELEMENTOS DA DIAGONAL PRINCIPAL DE UMA MATRIZ 5X5"
      ],
      "metadata": {
        "id": "p5PmY9HrYh-b"
      }
    },
    {
      "cell_type": "code",
      "source": [
        "import numpy as np\n",
        "matriz = np.random.randint(0,1000,(5,5))\n",
        "print(matriz)\n",
        "np.trace(matriz)"
      ],
      "metadata": {
        "colab": {
          "base_uri": "https://localhost:8080/"
        },
        "id": "VBquY_4IZlSw",
        "outputId": "67c3c42d-1194-4f16-8aeb-89dfa4227d20"
      },
      "execution_count": 17,
      "outputs": [
        {
          "output_type": "stream",
          "name": "stdout",
          "text": [
            "[[287 717 354 984 932]\n",
            " [393 383 162 803 446]\n",
            " [896 508 846 290 665]\n",
            " [ 36 952 309 354 247]\n",
            " [556 473 116 303 915]]\n"
          ]
        },
        {
          "output_type": "execute_result",
          "data": {
            "text/plain": [
              "2785"
            ]
          },
          "metadata": {},
          "execution_count": 17
        }
      ]
    },
    {
      "cell_type": "markdown",
      "source": [
        "2° CRIE DUAS MATRIZES 4x4 COM VALORES ALEATÓRIOS INTEIROS. APÓS ISSO, CALCULE A SOMA, SUBTRAÇÃO, MULTIPLICAÇÃO, DIVISÃO E VERIFIQUE A IGUALDADE ENTRE AS MATRIZES"
      ],
      "metadata": {
        "id": "DY-lgc24YiNB"
      }
    },
    {
      "cell_type": "code",
      "source": [
        "import numpy as np\n",
        "matriz1 = np.random.randint(0,1000,(4,4))\n",
        "matriz2 = np.random.randint(0,1000,(4,4))\n",
        "\n",
        "print(f'{matriz1}\\n \\n {matriz2}')\n",
        "\n",
        "soma = matriz1+matriz2\n",
        "print(soma)\n",
        "\n",
        "sub = matriz1-matriz2\n",
        "print(sub)\n",
        "\n",
        "mult = matriz1*matriz2\n",
        "print(mult)\n",
        "\n",
        "div = np.round(matriz1/matriz2,2)\n",
        "print(div)\n"
      ],
      "metadata": {
        "colab": {
          "base_uri": "https://localhost:8080/"
        },
        "id": "swRo34rKYiTB",
        "outputId": "4b4103a1-328f-4ac1-8aa0-32247c4e47d9"
      },
      "execution_count": 37,
      "outputs": [
        {
          "output_type": "stream",
          "name": "stdout",
          "text": [
            "[[174 962 183  44]\n",
            " [434 546 163 215]\n",
            " [527 541 755  17]\n",
            " [360 265 719 827]]\n",
            " \n",
            " [[267 748 186 775]\n",
            " [348 472 843 427]\n",
            " [639 349 833 470]\n",
            " [562 571 654   1]]\n",
            "[[ 441 1710  369  819]\n",
            " [ 782 1018 1006  642]\n",
            " [1166  890 1588  487]\n",
            " [ 922  836 1373  828]]\n",
            "[[ -93  214   -3 -731]\n",
            " [  86   74 -680 -212]\n",
            " [-112  192  -78 -453]\n",
            " [-202 -306   65  826]]\n",
            "[[ 46458 719576  34038  34100]\n",
            " [151032 257712 137409  91805]\n",
            " [336753 188809 628915   7990]\n",
            " [202320 151315 470226    827]]\n",
            "[[6.50e-01 1.29e+00 9.80e-01 6.00e-02]\n",
            " [1.25e+00 1.16e+00 1.90e-01 5.00e-01]\n",
            " [8.20e-01 1.55e+00 9.10e-01 4.00e-02]\n",
            " [6.40e-01 4.60e-01 1.10e+00 8.27e+02]]\n"
          ]
        }
      ]
    }
  ]
}