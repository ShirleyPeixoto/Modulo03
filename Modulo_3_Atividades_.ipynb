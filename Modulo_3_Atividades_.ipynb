{
  "nbformat": 4,
  "nbformat_minor": 0,
  "metadata": {
    "colab": {
      "name": "Modulo 3 -  Atividades .ipynb",
      "provenance": [],
      "collapsed_sections": []
    },
    "kernelspec": {
      "name": "python3",
      "display_name": "Python 3"
    },
    "language_info": {
      "name": "python"
    }
  },
  "cells": [
    {
      "cell_type": "markdown",
      "source": [
        "# AULA 2 - ATIVIDADE"
      ],
      "metadata": {
        "id": "joWvdug6cBU0"
      }
    },
    {
      "cell_type": "markdown",
      "source": [
        "**Os exercícios devem ser colocado em um repositória Git público e a URL do projeto deve ser enviada para: pablo.bizzi@gmail.com e compartilhar o repositório no Github. Meu usuário é pablobizzi**"
      ],
      "metadata": {
        "id": "UnpWW1lucSB0"
      }
    },
    {
      "cell_type": "markdown",
      "source": [
        "1 - Faça um algoritmo que solicite ao usuário números e os armazene em um vetor de 5 posições. Crie uma função que recebe o vetor preenchido e substitua todas as ocorrência de valores positivos por 1 e todos os valores negativos por 0."
      ],
      "metadata": {
        "id": "AYkwqHCib6lN"
      }
    },
    {
      "cell_type": "code",
      "source": [
        "def vetor():\n",
        "  import numpy as np \n",
        "  vetor = [0]*5\n",
        "  for n in range(5):\n",
        "    f = int(input('Digite um número: '))\n",
        "    vetor[n] = f\n",
        "  array = np.array(vetor)\n",
        "  print(array)\n",
        "  for n in range(5):\n",
        "    if array[n] < 0:\n",
        "      array[n] = 0\n",
        "    else:\n",
        "      array[n] =1\n",
        "  print(array)\n",
        "vetor()"
      ],
      "metadata": {
        "id": "Voo2JVDgb5w0"
      },
      "execution_count": null,
      "outputs": []
    },
    {
      "cell_type": "markdown",
      "source": [
        "2 - Faça um algoritmo que solicita 2 arrays diferentes de 3 posições que irão representar as 3 notas de 2 alunos da instituição. Após isso, faça a média do somatório de todos os valores dos dois arrays."
      ],
      "metadata": {
        "id": "kPIqq43NbyeW"
      }
    },
    {
      "cell_type": "code",
      "execution_count": null,
      "metadata": {
        "id": "NcYq8MSMbayt"
      },
      "outputs": [],
      "source": [
        "import numpy as np \n",
        "aluno1 = [0]*3\n",
        "aluno2 = [0]*3\n",
        "for n in range(3):\n",
        "  n1 = int(input(f'1° Aluno: Informe a {n+1}° nota: '))\n",
        "  aluno1[n] = n1\n",
        "aluno1 = np.array(aluno1)\n",
        "for n in range(3):\n",
        "  n2 = int(input(f'2° Aluno: Informe a {n+1}° nota: '))\n",
        "  aluno2[n] = n2\n",
        "aluno2 = np.array(aluno2)\n",
        "\n",
        "print(aluno1)\n",
        "print(aluno2)\n",
        "print(f'A media geral é {round(sum(aluno1+aluno2)/(aluno1.size+aluno2.size)),2}')"
      ]
    }
  ]
}